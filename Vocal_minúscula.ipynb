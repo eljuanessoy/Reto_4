{
  "nbformat": 4,
  "nbformat_minor": 0,
  "metadata": {
    "colab": {
      "provenance": [],
      "authorship_tag": "ABX9TyNJCTtPOOri6Fh3xty/xbUQ",
      "include_colab_link": true
    },
    "kernelspec": {
      "name": "python3",
      "display_name": "Python 3"
    },
    "language_info": {
      "name": "python"
    }
  },
  "cells": [
    {
      "cell_type": "markdown",
      "metadata": {
        "id": "view-in-github",
        "colab_type": "text"
      },
      "source": [
        "<a href=\"https://colab.research.google.com/github/eljuanessoy/Reto_4/blob/main/Vocal_min%C3%BAscula.ipynb\" target=\"_parent\"><img src=\"https://colab.research.google.com/assets/colab-badge.svg\" alt=\"Open In Colab\"/></a>"
      ]
    },
    {
      "cell_type": "code",
      "execution_count": 7,
      "metadata": {
        "id": "RNdXoa6_i8_Y",
        "colab": {
          "base_uri": "https://localhost:8080/"
        },
        "outputId": "39cfc970-9456-4b89-d8b0-454cb29e5aa0"
      },
      "outputs": [
        {
          "output_type": "stream",
          "name": "stdout",
          "text": [
            "Ingrese un numero entero\n",
            "Número: 21\n",
            "El número ingresado no corresponde a una vocal minúscula en el código ASCII\n"
          ]
        }
      ],
      "source": [
        "print(\"Ingrese un numero entero\")\n",
        "numero = float(input(\"Número: \"))\n",
        "if numero == 97:\n",
        "    print(\"El número ingresado corresponde a la vocal 'a' en el código ASCII\")\n",
        "elif numero == 101:\n",
        "    print(\"El número ingresado corresponde a la vocal 'e' en el código ASCII\")\n",
        "elif numero == 105:\n",
        "    print(\"El número ingresado corresponde a la vocal 'i' en el código ASCII\")\n",
        "elif numero == 111:\n",
        "    print(\"El número ingresado corresponde a la vocal 'o' en el código ASCII\")\n",
        "elif numero == 117:\n",
        "    print(\"El número ingresado corresponde a la vocal 'u' en el código ASCII\")\n",
        "else:\n",
        "    print(\"El número ingresado no corresponde a una vocal minúscula en el código ASCII\")"
      ]
    }
  ]
}