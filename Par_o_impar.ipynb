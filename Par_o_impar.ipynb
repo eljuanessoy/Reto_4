{
  "nbformat": 4,
  "nbformat_minor": 0,
  "metadata": {
    "colab": {
      "provenance": [],
      "authorship_tag": "ABX9TyMzst8dGLyFqsLtDLYJ1Txv",
      "include_colab_link": true
    },
    "kernelspec": {
      "name": "python3",
      "display_name": "Python 3"
    },
    "language_info": {
      "name": "python"
    }
  },
  "cells": [
    {
      "cell_type": "markdown",
      "metadata": {
        "id": "view-in-github",
        "colab_type": "text"
      },
      "source": [
        "<a href=\"https://colab.research.google.com/github/eljuanessoy/Reto_4/blob/main/Par_o_impar.ipynb\" target=\"_parent\"><img src=\"https://colab.research.google.com/assets/colab-badge.svg\" alt=\"Open In Colab\"/></a>"
      ]
    },
    {
      "cell_type": "code",
      "execution_count": null,
      "metadata": {
        "id": "aC88IpqXjFVU"
      },
      "outputs": [],
      "source": [
        "x = (input(\"Ingrese UNA letra:\"))\n",
        "n = ord(x)\n",
        "if n%2 == 0:\n",
        "  print(\"El codigo ASCII de la letra es par\")\n",
        "else:\n",
        "  print(\"El codigo ASCII de la letra es impar\")"
      ]
    }
  ]
}