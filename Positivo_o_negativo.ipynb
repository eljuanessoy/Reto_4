{
  "nbformat": 4,
  "nbformat_minor": 0,
  "metadata": {
    "colab": {
      "provenance": [],
      "authorship_tag": "ABX9TyMmelTXSf7fWsBwjoPS9xru",
      "include_colab_link": true
    },
    "kernelspec": {
      "name": "python3",
      "display_name": "Python 3"
    },
    "language_info": {
      "name": "python"
    }
  },
  "cells": [
    {
      "cell_type": "markdown",
      "metadata": {
        "id": "view-in-github",
        "colab_type": "text"
      },
      "source": [
        "<a href=\"https://colab.research.google.com/github/eljuanessoy/Reto_4/blob/main/Positivo_o_negativo.ipynb\" target=\"_parent\"><img src=\"https://colab.research.google.com/assets/colab-badge.svg\" alt=\"Open In Colab\"/></a>"
      ]
    },
    {
      "cell_type": "code",
      "execution_count": null,
      "metadata": {
        "id": "IiFcSS4SjDEm"
      },
      "outputs": [],
      "source": [
        "x: int\n",
        "print(\"Ingrese un número: \")\n",
        "x=int( input(\"x: \"))\n",
        "if x>0:\n",
        "  print(\"El número es positivo\")\n",
        "elif x<0:\n",
        "  print(\"El número es negativo\")\n",
        "else:\n",
        "  print(\"El número es 0 (neutro)\")"
      ]
    }
  ]
}