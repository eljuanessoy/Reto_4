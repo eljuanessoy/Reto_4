{
  "nbformat": 4,
  "nbformat_minor": 0,
  "metadata": {
    "colab": {
      "provenance": [],
      "authorship_tag": "ABX9TyMGx5r+ZyhIQ0NMt3brNgSV",
      "include_colab_link": true
    },
    "kernelspec": {
      "name": "python3",
      "display_name": "Python 3"
    },
    "language_info": {
      "name": "python"
    }
  },
  "cells": [
    {
      "cell_type": "markdown",
      "metadata": {
        "id": "view-in-github",
        "colab_type": "text"
      },
      "source": [
        "<a href=\"https://colab.research.google.com/github/eljuanessoy/Reto_4/blob/main/Circulo.ipynb\" target=\"_parent\"><img src=\"https://colab.research.google.com/assets/colab-badge.svg\" alt=\"Open In Colab\"/></a>"
      ]
    },
    {
      "cell_type": "code",
      "execution_count": null,
      "metadata": {
        "id": "WcZA878gjBw7"
      },
      "outputs": [],
      "source": [
        "a : float\n",
        "b : float\n",
        "c : float\n",
        "d : float\n",
        "e : float\n",
        "a = float(input(\"Ingresa el valor del centro de la circunferencia en X\"))\n",
        "b = float(input(\"Ingresa el valor del centro de la circunferencia en Y\"))\n",
        "c = float(input(\"Ingresa el valor del radio de la circunferencia en X\"))\n",
        "d = float(input(\"Ingresa el valor para el punto en X\"))\n",
        "e = float(input(\"Ingresa el valor para el punto en Y\"))\n",
        "if ((d-a)**2 + (e-b)**2)**0.50 <= c:\n",
        "  print(\"El punto en X \" +str(d)+ \"y el punto en Y \" +str(e)+ \"estan dentro de la circunferencia\")\n",
        "else:\n",
        "  print(\"El punto en X \" +str(d)+ \"y el punto en Y \" +str(e)+ \"no estan dentro de la circunferencia\")"
      ]
    }
  ]
}