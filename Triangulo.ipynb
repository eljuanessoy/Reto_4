{
  "nbformat": 4,
  "nbformat_minor": 0,
  "metadata": {
    "colab": {
      "provenance": [],
      "authorship_tag": "ABX9TyOe4TjHxzlL4b6X7jF0yCBZ",
      "include_colab_link": true
    },
    "kernelspec": {
      "name": "python3",
      "display_name": "Python 3"
    },
    "language_info": {
      "name": "python"
    }
  },
  "cells": [
    {
      "cell_type": "markdown",
      "metadata": {
        "id": "view-in-github",
        "colab_type": "text"
      },
      "source": [
        "<a href=\"https://colab.research.google.com/github/eljuanessoy/Reto_4/blob/main/Triangulo.ipynb\" target=\"_parent\"><img src=\"https://colab.research.google.com/assets/colab-badge.svg\" alt=\"Open In Colab\"/></a>"
      ]
    },
    {
      "cell_type": "code",
      "execution_count": null,
      "metadata": {
        "id": "sD7mTBZNi_aN"
      },
      "outputs": [],
      "source": [
        "LA: float\n",
        "LB: float\n",
        "LC: float\n",
        "LA=input(\"LA: \")\n",
        "LB=input(\"LB: \")\n",
        "LC=input(\"LC: \")\n",
        "if (LA+LB) > LC:\n",
        "  print(\"Si se puede formar un triángulo\")\n",
        "else:\n",
        "  print(\"No se puede formar un triángulo\")"
      ]
    }
  ]
}