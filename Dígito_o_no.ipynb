{
  "nbformat": 4,
  "nbformat_minor": 0,
  "metadata": {
    "colab": {
      "provenance": [],
      "authorship_tag": "ABX9TyOHFI1rZepByv1JXWU8aZ5u",
      "include_colab_link": true
    },
    "kernelspec": {
      "name": "python3",
      "display_name": "Python 3"
    },
    "language_info": {
      "name": "python"
    }
  },
  "cells": [
    {
      "cell_type": "markdown",
      "metadata": {
        "id": "view-in-github",
        "colab_type": "text"
      },
      "source": [
        "<a href=\"https://colab.research.google.com/github/eljuanessoy/Reto_4/blob/main/D%C3%ADgito_o_no.ipynb\" target=\"_parent\"><img src=\"https://colab.research.google.com/assets/colab-badge.svg\" alt=\"Open In Colab\"/></a>"
      ]
    },
    {
      "cell_type": "code",
      "execution_count": null,
      "metadata": {
        "id": "VSnnRG9UjFTV"
      },
      "outputs": [],
      "source": [
        "x: float = 0.0\n",
        "print(\"Ingrese un carácter: \")\n",
        "x = input(\"x:\")\n",
        "if (x >= \"0\" and x <= \"9\"):\n",
        "    print(\"El carácter SI es un dígito\")\n",
        "else:\n",
        "    print(\"El carácter NO es un dígito\")"
      ]
    }
  ]
}